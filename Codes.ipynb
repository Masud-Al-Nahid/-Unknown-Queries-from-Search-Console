{
 "cells": [
  {
   "cell_type": "code",
   "execution_count": null,
   "id": "dd024fc1",
   "metadata": {},
   "outputs": [],
   "source": [
    "import os \n",
    "os.chdir(r'C:\\Users\\aouwa\\Desktop\\Tutorial')"
   ]
  },
  {
   "cell_type": "code",
   "execution_count": null,
   "id": "5b541986",
   "metadata": {},
   "outputs": [],
   "source": [
    "import pandas as pd\n",
    "df = pd.read_csv('keywords.csv')"
   ]
  },
  {
   "cell_type": "code",
   "execution_count": null,
   "id": "170cffa7",
   "metadata": {},
   "outputs": [],
   "source": [
    "df.info()"
   ]
  },
  {
   "cell_type": "code",
   "execution_count": null,
   "id": "ce084b03",
   "metadata": {
    "scrolled": true
   },
   "outputs": [],
   "source": [
    "df.head()"
   ]
  },
  {
   "cell_type": "code",
   "execution_count": null,
   "id": "bc2494dc",
   "metadata": {},
   "outputs": [],
   "source": [
    "df['Date'] = pd.to_datetime(df.Date)"
   ]
  },
  {
   "cell_type": "code",
   "execution_count": null,
   "id": "0f4c1128",
   "metadata": {},
   "outputs": [],
   "source": [
    "df.tail()"
   ]
  },
  {
   "cell_type": "code",
   "execution_count": null,
   "id": "8a440f3a",
   "metadata": {},
   "outputs": [],
   "source": [
    "last_day_queries = df[df['Date']>\"2022-05-25\"][\"Query\"]"
   ]
  },
  {
   "cell_type": "code",
   "execution_count": null,
   "id": "f3df4816",
   "metadata": {},
   "outputs": [],
   "source": [
    "len(last_day_queries)"
   ]
  },
  {
   "cell_type": "code",
   "execution_count": null,
   "id": "a736c78a",
   "metadata": {},
   "outputs": [],
   "source": [
    "rest_queries = df[df['Date']<\"2022-05-25\"][\"Query\"]"
   ]
  },
  {
   "cell_type": "code",
   "execution_count": null,
   "id": "3fd494c7",
   "metadata": {},
   "outputs": [],
   "source": [
    "new_keywords = set(last_day_queries) - set(rest_queries)"
   ]
  },
  {
   "cell_type": "code",
   "execution_count": null,
   "id": "944360ed",
   "metadata": {},
   "outputs": [],
   "source": [
    "len(new_keywords)"
   ]
  },
  {
   "cell_type": "code",
   "execution_count": null,
   "id": "47046061",
   "metadata": {},
   "outputs": [],
   "source": [
    "new_keywords"
   ]
  }
 ],
 "metadata": {
  "kernelspec": {
   "display_name": "Python 3 (ipykernel)",
   "language": "python",
   "name": "python3"
  },
  "language_info": {
   "codemirror_mode": {
    "name": "ipython",
    "version": 3
   },
   "file_extension": ".py",
   "mimetype": "text/x-python",
   "name": "python",
   "nbconvert_exporter": "python",
   "pygments_lexer": "ipython3",
   "version": "3.9.7"
  }
 },
 "nbformat": 4,
 "nbformat_minor": 5
}
